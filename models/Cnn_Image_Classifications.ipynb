{
 "cells": [
  {
   "cell_type": "code",
   "execution_count": 2,
   "metadata": {
    "colab": {
     "base_uri": "https://localhost:8080/",
     "height": 121
    },
    "colab_type": "code",
    "executionInfo": {
     "elapsed": 28805,
     "status": "ok",
     "timestamp": 1577646549159,
     "user": {
      "displayName": "Fatma Nisa Hopcu",
      "photoUrl": "",
      "userId": "09875429741326143479"
     },
     "user_tz": -180
    },
    "id": "u5TOnrqd7wi8",
    "outputId": "9bbad63f-db51-426a-f083-42a56065eb0f"
   },
   "outputs": [
    {
     "name": "stdout",
     "output_type": "stream",
     "text": [
      "Go to this URL in a browser: https://accounts.google.com/o/oauth2/auth?client_id=947318989803-6bn6qk8qdgf4n4g3pfee6491hc0brc4i.apps.googleusercontent.com&redirect_uri=urn%3aietf%3awg%3aoauth%3a2.0%3aoob&response_type=code&scope=email%20https%3a%2f%2fwww.googleapis.com%2fauth%2fdocs.test%20https%3a%2f%2fwww.googleapis.com%2fauth%2fdrive%20https%3a%2f%2fwww.googleapis.com%2fauth%2fdrive.photos.readonly%20https%3a%2f%2fwww.googleapis.com%2fauth%2fpeopleapi.readonly\n",
      "\n",
      "Enter your authorization code:\n",
      "··········\n",
      "Mounted at /content/drive\n"
     ]
    }
   ],
   "source": [
    "import torch\n",
    "import torch.nn as nn\n",
    "import torch.optim as optim\n",
    "from torch.optim import lr_scheduler\n",
    "import numpy as np\n",
    "import torchvision\n",
    "from torchvision import datasets, models, transforms\n",
    "import matplotlib.pyplot as plt\n",
    "import time\n",
    "import os\n",
    "import copy\n",
    "import itertools\n",
    "from sklearn.metrics import confusion_matrix\n",
    "\n",
    "from google.colab import drive\n",
    "drive.mount('/content/drive')"
   ]
  },
  {
   "cell_type": "code",
   "execution_count": 0,
   "metadata": {
    "colab": {},
    "colab_type": "code",
    "id": "wlaZ2dXR8SXa"
   },
   "outputs": [],
   "source": [
    "data_transforms = {\n",
    "    'train': transforms.Compose([\n",
    "        transforms.RandomResizedCrop(224),\n",
    "        transforms.RandomHorizontalFlip(),\n",
    "        transforms.ToTensor(),\n",
    "        transforms.Normalize([0.485, 0.456, 0.406], [0.229, 0.224, 0.225])\n",
    "    ]),\n",
    "    'validation': transforms.Compose([\n",
    "        transforms.Resize(256),\n",
    "        transforms.CenterCrop(224),\n",
    "        transforms.ToTensor(),\n",
    "        transforms.Normalize([0.485, 0.456, 0.406], [0.229, 0.224, 0.225])\n",
    "    ]),\n",
    "    'test': transforms.Compose([\n",
    "            transforms.Resize(256),\n",
    "            transforms.CenterCrop(224),\n",
    "            transforms.ToTensor(),\n",
    "            transforms.Normalize([0.485, 0.456, 0.406], [0.229, 0.224, 0.225])\n",
    "        ]),\n",
    "}\n"
   ]
  },
  {
   "cell_type": "code",
   "execution_count": 0,
   "metadata": {
    "colab": {},
    "colab_type": "code",
    "id": "T60AqXkq8bOS"
   },
   "outputs": [],
   "source": [
    "def plot_confusion_matrix(cm, classes,\n",
    "                          cmap=plt.cm.Blues):\n",
    "   \n",
    "\n",
    "    plt.imshow(cm, interpolation='nearest', cmap=cmap)\n",
    "    plt.colorbar()\n",
    "    tick_marks = np.arange(len(classes))\n",
    "    plt.xticks(tick_marks, classes, rotation=45)\n",
    "    plt.yticks(tick_marks, classes)\n",
    "    \n",
    "    threshold = cm.max() / 2.\n",
    "    for i, j in itertools.product(range(cm.shape[0]), range(cm.shape[1])):\n",
    "        plt.text(j, i, format(cm[i, j]),horizontalalignment=\"center\",color=\"white\" if cm[i, j] > threshold else \"black\")\n",
    "\n",
    "    plt.ylabel('True label')\n",
    "    plt.xlabel('Predicted label')"
   ]
  },
  {
   "cell_type": "code",
   "execution_count": 0,
   "metadata": {
    "colab": {},
    "colab_type": "code",
    "id": "kcW6MJmM8pCH"
   },
   "outputs": [],
   "source": [
    "def getdataloader_sizes(batchsize): \n",
    "  dataset_directory = 'drive/My Drive/dataset'\n",
    "  image_datasets = {x: datasets.ImageFolder(os.path.join(dataset_directory, x),data_transforms[x])for x in ['train', 'validation', 'test']}\n",
    "  #Batch size is set as 64 \n",
    "  dataloaders = {x: torch.utils.data.DataLoader(image_datasets[x], batch_size=batchsize,\n",
    "                                               shuffle=True, num_workers=8)\n",
    "                for x in ['train', 'validation' ,'test']}\n",
    "  dataset_sizes = {x: len(image_datasets[x]) for x in ['train', 'validation','test']}\n",
    "\n",
    "  print({x: len(image_datasets[x]) for x in ['train', 'validation','test']})\n",
    "  class_names = image_datasets['train'].classes\n",
    "  return dataloaders,dataset_sizes,class_names"
   ]
  },
  {
   "cell_type": "code",
   "execution_count": 7,
   "metadata": {
    "colab": {
     "base_uri": "https://localhost:8080/",
     "height": 34
    },
    "colab_type": "code",
    "executionInfo": {
     "elapsed": 651,
     "status": "ok",
     "timestamp": 1577646562031,
     "user": {
      "displayName": "Fatma Nisa Hopcu",
      "photoUrl": "",
      "userId": "09875429741326143479"
     },
     "user_tz": -180
    },
    "id": "iULtOI0a8sKK",
    "outputId": "4a8c3beb-3892-4e24-9598-780e61f249e6"
   },
   "outputs": [
    {
     "name": "stdout",
     "output_type": "stream",
     "text": [
      "cuda:0\n"
     ]
    }
   ],
   "source": [
    "device = \"cuda:0\" if torch.cuda.is_available() else \"cpu\"\n",
    "print(device)"
   ]
  },
  {
   "cell_type": "code",
   "execution_count": 8,
   "metadata": {
    "colab": {
     "base_uri": "https://localhost:8080/",
     "height": 50
    },
    "colab_type": "code",
    "executionInfo": {
     "elapsed": 20672,
     "status": "ok",
     "timestamp": 1577646584346,
     "user": {
      "displayName": "Fatma Nisa Hopcu",
      "photoUrl": "",
      "userId": "09875429741326143479"
     },
     "user_tz": -180
    },
    "id": "_OtVr7iS9EeH",
    "outputId": "992a908f-6caa-4456-c03c-54e7c0ae1592"
   },
   "outputs": [
    {
     "name": "stderr",
     "output_type": "stream",
     "text": [
      "Downloading: \"https://download.pytorch.org/models/vgg16-397923af.pth\" to /root/.cache/torch/checkpoints/vgg16-397923af.pth\n",
      "100%|██████████| 528M/528M [00:18<00:00, 29.6MB/s]\n"
     ]
    }
   ],
   "source": [
    "\n",
    "model= models.vgg16(pretrained=True)\n",
    "for param in model.features.parameters():\n",
    "    param.requires_grad = False"
   ]
  },
  {
   "cell_type": "code",
   "execution_count": 0,
   "metadata": {
    "colab": {},
    "colab_type": "code",
    "id": "433_LzCe9Mjv"
   },
   "outputs": [],
   "source": [
    "def plot_graph(plotlist1,plotlist2,ylabel):\n",
    "   #Plot accuracy graph \n",
    "    plt.xlabel(\"Training Epochs\")\n",
    "    plt.ylabel(ylabel)\n",
    "    plt.plot(plotlist1, color=\"green\")\n",
    "    plt.plot(plotlist2, color=\"yellow\")\n",
    "    \n",
    "    plt.gca().legend(('Train', 'Validation'))\n",
    "    plt.show()"
   ]
  },
  {
   "cell_type": "code",
   "execution_count": 0,
   "metadata": {
    "colab": {},
    "colab_type": "code",
    "id": "qXXwEhB59M2F"
   },
   "outputs": [],
   "source": [
    "def train_model(model, criterion, optimizer, epoch_number,device,earlystopping):\n",
    "   \n",
    "    model.to(device)\n",
    "    best_model_wts = copy.deepcopy(model.state_dict())\n",
    "    best_train_acc = 0.0\n",
    "    best_val_acc = 0.0\n",
    "    best_test_acc = 0.0\n",
    "    train_acc_history = list()\n",
    "    train_loss_history =list()\n",
    "    val_acc_history = list()\n",
    "    val_loss_history =list()\n",
    "    \n",
    "    counter = 0\n",
    "    stop =False\n",
    "    best_loss = None\n",
    "    \n",
    "    #early stopping\n",
    "    n_epochs_stop = 1\n",
    "    min_val_loss = np.Inf\n",
    "    epochs_no_improve = 0\n",
    "    \n",
    "    for epoch in range(epoch_number):\n",
    "        if stop:\n",
    "          break\n",
    "        print('Epoch {}/{}'.format(epoch, epoch_number - 1))\n",
    "        \n",
    "        # Each epoch has a training and validation phase\n",
    "        for part in ['train', 'validation']:\n",
    "            if part == 'train':\n",
    "                \n",
    "                model.train()  \n",
    "            else:\n",
    "                model.eval()  \n",
    "\n",
    "            current_loss = 0.0\n",
    "            current_phase_correct_outputnumber = 0\n",
    "            # For each phase in datasets are iterated\n",
    "            for inputs, labels in dataloaders[part]:\n",
    "                inputs = inputs.to(device)\n",
    "                labels = labels.to(device)\n",
    "                # zero the parameter gradients\n",
    "                optimizer.zero_grad()\n",
    "                # forward\n",
    "                with torch.set_grad_enabled(part == 'train'):\n",
    "                    outputs = model(inputs)\n",
    "                    _, preds = torch.max(outputs, 1)\n",
    "                    loss = criterion(outputs, labels)\n",
    "                    # Backpropagate and opitimize Training part\n",
    "                    if part == 'train':\n",
    "                        loss.backward()\n",
    "                        optimizer.step()\n",
    "\n",
    "                # statistics\n",
    "                current_loss += loss.item() * inputs.size(0)\n",
    "                current_phase_correct_outputnumber += torch.sum(preds == labels.data)\n",
    "\n",
    "            current_loss = current_loss / dataset_sizes[part]\n",
    "            epoch_acc = 100*current_phase_correct_outputnumber.double() / dataset_sizes[part]\n",
    "\n",
    "            if part == 'validation':\n",
    "                val_acc_history.append(epoch_acc)\n",
    "                val_loss_history.append(current_loss)\n",
    "                if earlystopping:\n",
    "                  # If the validation loss is at a minimum\n",
    "                  if current_loss < min_val_loss:\n",
    "                    # Save the model\n",
    "                    epochs_no_improve = 0\n",
    "                    min_val_loss = current_loss\n",
    "\n",
    "                  else:\n",
    "                    epochs_no_improve += 1\n",
    "                    # Check early stopping condition\n",
    "                    if epochs_no_improve == n_epochs_stop:\n",
    "                      print('Early stopping!')\n",
    "                      \n",
    "                      #Printed best accuracies\n",
    "                      print('Best train Acc: {:4f}'.format(best_train_acc))\n",
    "                      print('Best validation Acc: {:4f}'.format(best_val_acc))\n",
    "\n",
    "                      print()\n",
    "\n",
    "                      #Printed best accuracies\n",
    "                      print('Best train Acc: {:4f}'.format(best_train_acc))\n",
    "                      print('Best validation Acc: {:4f}'.format(best_val_acc))\n",
    "\n",
    "                      # load best model weights\n",
    "                      model.load_state_dict(best_model_wts)\n",
    "                      #Plot accuracy graph \n",
    "                      plot_graph(train_acc_history,val_acc_history,\"Accuracy\")\n",
    "                      plot_graph(train_loss_history,val_loss_history,\"Loss\")\n",
    "                      \n",
    "                      return model                  \n",
    "            else:\n",
    "                train_acc_history.append(epoch_acc)\n",
    "                train_loss_history.append(current_loss)\n",
    "\n",
    "            print('{} Loss: {:.4f} Acc: {:.4f}'.format(\n",
    "                part, current_loss, epoch_acc))\n",
    "\n",
    "            # deep copy the model\n",
    "            if part == 'train' and epoch_acc > best_train_acc:\n",
    "                  best_train_acc = epoch_acc\n",
    "                \n",
    "            if part == 'validation' and epoch_acc > best_val_acc:             \n",
    "                best_val_acc = epoch_acc\n",
    "                best_model_wts = copy.deepcopy(model.state_dict())\n",
    "              \n",
    "        print() \n",
    "    \n",
    "    print('Best train Acc: {:4f}'.format(best_train_acc))\n",
    "    print('Best validation Acc: {:4f}'.format(best_val_acc))\n",
    "              \n",
    "    print()\n",
    "    #Printed best accuracies\n",
    "    print('Best train Acc: {:4f}'.format(best_train_acc))\n",
    "    print('Best validation Acc: {:4f}'.format(best_val_acc))\n",
    "    \n",
    "    # load best model weights\n",
    "    model.load_state_dict(best_model_wts)\n",
    "    #Plot accuracy graph \n",
    "    plot_graph(train_acc_history,val_acc_history,\"Accuracy\")\n",
    "    plot_graph(train_loss_history,val_loss_history,\"Loss\")\n",
    "  \n",
    "    return model\n"
   ]
  },
  {
   "cell_type": "code",
   "execution_count": 12,
   "metadata": {
    "colab": {
     "base_uri": "https://localhost:8080/",
     "height": 1000
    },
    "colab_type": "code",
    "executionInfo": {
     "elapsed": 274628,
     "status": "ok",
     "timestamp": 1577648118541,
     "user": {
      "displayName": "Fatma Nisa Hopcu",
      "photoUrl": "",
      "userId": "09875429741326143479"
     },
     "user_tz": -180
    },
    "id": "7sbnoZSJEnwn",
    "outputId": "f2bbe1e8-0ffb-4ad0-e490-5e9cb7c1b9ba"
   },
   "outputs": [
    {
     "name": "stdout",
     "output_type": "stream",
     "text": [
      "{'train': 998, 'validation': 228, 'test': 308}\n",
      "Epoch 0/15\n",
      "train Loss: 2.2321 Acc: 15.9319\n",
      "validation Loss: 2.1881 Acc: 14.4737\n",
      "\n",
      "Epoch 1/15\n",
      "train Loss: 2.2020 Acc: 17.2345\n",
      "validation Loss: 2.1575 Acc: 18.4211\n",
      "\n",
      "Epoch 2/15\n",
      "train Loss: 2.1752 Acc: 17.4349\n",
      "validation Loss: 2.1292 Acc: 21.0526\n",
      "\n",
      "Epoch 3/15\n",
      "train Loss: 2.1587 Acc: 19.0381\n",
      "validation Loss: 2.1025 Acc: 22.8070\n",
      "\n",
      "Epoch 4/15\n",
      "train Loss: 2.1452 Acc: 19.9399\n",
      "validation Loss: 2.0775 Acc: 25.0000\n",
      "\n",
      "Epoch 5/15\n",
      "train Loss: 2.1153 Acc: 21.8437\n",
      "validation Loss: 2.0533 Acc: 26.7544\n",
      "\n",
      "Epoch 6/15\n",
      "train Loss: 2.0632 Acc: 25.1503\n",
      "validation Loss: 2.0308 Acc: 27.6316\n",
      "\n",
      "Epoch 7/15\n",
      "train Loss: 2.0697 Acc: 23.1463\n",
      "validation Loss: 2.0085 Acc: 30.7018\n",
      "\n",
      "Epoch 8/15\n",
      "train Loss: 2.0273 Acc: 27.8557\n",
      "validation Loss: 1.9869 Acc: 34.6491\n",
      "\n",
      "Epoch 9/15\n",
      "train Loss: 2.0031 Acc: 28.3567\n",
      "validation Loss: 1.9665 Acc: 36.8421\n",
      "\n",
      "Epoch 10/15\n",
      "train Loss: 2.0045 Acc: 26.5531\n",
      "validation Loss: 1.9463 Acc: 37.7193\n",
      "\n",
      "Epoch 11/15\n",
      "train Loss: 1.9752 Acc: 29.2585\n",
      "validation Loss: 1.9267 Acc: 39.0351\n",
      "\n",
      "Epoch 12/15\n",
      "train Loss: 1.9867 Acc: 28.0561\n",
      "validation Loss: 1.9080 Acc: 40.3509\n",
      "\n",
      "Epoch 13/15\n",
      "train Loss: 1.9699 Acc: 30.2605\n",
      "validation Loss: 1.8901 Acc: 40.3509\n",
      "\n",
      "Epoch 14/15\n",
      "train Loss: 1.9298 Acc: 31.0621\n",
      "validation Loss: 1.8718 Acc: 42.1053\n",
      "\n",
      "Epoch 15/15\n",
      "train Loss: 1.9280 Acc: 31.2625\n",
      "validation Loss: 1.8543 Acc: 42.9825\n",
      "\n",
      "Best train Acc: 31.262525\n",
      "Best validation Acc: 42.982456\n",
      "\n",
      "Best train Acc: 31.262525\n",
      "Best validation Acc: 42.982456\n"
     ]
    },
    {
     "data": {
      "image/png": "[encoded data removed]",
      "text/plain": [
       "<Figure size 432x288 with 1 Axes>"
      ]
     },
     "metadata": {
      "tags": []
     },
     "output_type": "display_data"
    },
    {
     "data": {
      "image/png": "[encoded data removed]",
      "text/plain": [
       "<Figure size 432x288 with 1 Axes>"
      ]
     },
     "metadata": {
      "tags": []
     },
     "output_type": "display_data"
    }
   ],
   "source": [
    "trainingmodel= models.vgg16(pretrained=True)\n",
    "for param in trainingmodel.features.parameters():\n",
    "    param.requires_grad = False\n",
    "    \n",
    "learning_rate = 0.001\n",
    "epoch = 32\n",
    "batchsize = 32\n",
    "criterion = nn.CrossEntropyLoss()\n",
    "optimizer = torch.optim.SGD(trainingmodel.parameters(), lr=learning_rate)\n",
    "earlystoping = False\n",
    "\n",
    "num_ftrs = trainingmodel.classifier[6].in_features\n",
    "\n",
    "#Last layer is removed and modified with a linear layer\n",
    "trainingmodel.classifier[6] = nn.Linear(num_ftrs,9)\n",
    "\n",
    "dataloaders,dataset_sizes,class_names = getdataloader_sizes(batchsize)\n",
    "\n",
    "\n",
    "trained_model = train_model(trainingmodel, criterion, optimizer,epoch,device,earlystoping)"
   ]
  },
  {
   "cell_type": "code",
   "execution_count": 0,
   "metadata": {
    "colab": {},
    "colab_type": "code",
    "id": "jPbF9tqSF-Uh"
   },
   "outputs": [],
   "source": [
    "def calculateTestAcc(trained_model,dataloaders,dataset_sizes):\n",
    "  confusion_matrixx = torch.zeros(9, 9)\n",
    "  np.set_printoptions(precision=2)\n",
    "  current_phase_correct_outputnumber = 0\n",
    "\n",
    "  with torch.no_grad():\n",
    "    for i, (inputs, classes) in enumerate(dataloaders['test']):\n",
    "        inputs = inputs.to(device)\n",
    "        classes = classes.to(device)\n",
    "        outputs = trained_model(inputs)\n",
    "        _, preds = torch.max(outputs, 1)\n",
    "        current_phase_correct_outputnumber += torch.sum(preds == classes.data)\n",
    "        \n",
    "      \n",
    "        \n",
    "       \n",
    "          \n",
    "        for t, p in zip(classes.view(-1), preds.view(-1)):\n",
    "            confusion_matrixx[t.long(), p.long()] += 1\n",
    "    #### Top 1 score\n",
    "    test_acc = 100*current_phase_correct_outputnumber.double() / dataset_sizes['test']\n",
    "    #### top5 score\n",
    "  \n",
    "    \n",
    "    #Top 1 and Top 5 accuracies printed\n",
    "    print('Test Acc: {:4f}'.format(test_acc))\n",
    "\n",
    "  #Plot size is set\n",
    "  plt.figure(figsize = (10,10))\n",
    "  plot_confusion_matrix(confusion_matrixx,classes=class_names)\n",
    "  plt.show()"
   ]
  },
  {
   "cell_type": "code",
   "execution_count": 15,
   "metadata": {
    "colab": {
     "base_uri": "https://localhost:8080/",
     "height": 623
    },
    "colab_type": "code",
    "executionInfo": {
     "elapsed": 45707,
     "status": "ok",
     "timestamp": 1577649871833,
     "user": {
      "displayName": "Fatma Nisa Hopcu",
      "photoUrl": "",
      "userId": "09875429741326143479"
     },
     "user_tz": -180
    },
    "id": "YJFPE50gEq-k",
    "outputId": "a6ee6249-b2d4-4d3d-b5ac-2445e99d27c6"
   },
   "outputs": [
    {
     "name": "stdout",
     "output_type": "stream",
     "text": [
      "Test Acc: 37.987013\n"
     ]
    },
    {
     "data": {
      "image/png": "[encoded data removed]",
      "text/plain": [
       "<Figure size 720x720 with 2 Axes>"
      ]
     },
     "metadata": {
      "tags": []
     },
     "output_type": "display_data"
    }
   ],
   "source": [
    "calculateTestAcc(trained_model,dataloaders,dataset_sizes)"
   ]
  }
 ],
 "metadata": {
  "accelerator": "GPU",
  "colab": {
   "collapsed_sections": [],
   "name": "Dasm.ipynb",
   "provenance": []
  },
  "kernelspec": {
   "display_name": "Python 3",
   "language": "python",
   "name": "python3"
  },
  "language_info": {
   "codemirror_mode": {
    "name": "ipython",
    "version": 3
   },
   "file_extension": ".py",
   "mimetype": "text/x-python",
   "name": "python",
   "nbconvert_exporter": "python",
   "pygments_lexer": "ipython3",
   "version": "3.7.3"
  }
 },
 "nbformat": 4,
 "nbformat_minor": 1
}
