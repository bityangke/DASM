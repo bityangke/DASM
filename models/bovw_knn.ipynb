{
 "cells": [
  {
   "cell_type": "code",
   "execution_count": null,
   "metadata": {},
   "outputs": [],
   "source": [
    "import numpy as np\n",
    "import cv2\n",
    "import os\n",
    "from scipy import ndimage\n",
    "from scipy.spatial import distance\n",
    "from sklearn.cluster import KMeans\n",
    "from sklearn.metrics import confusion_matrix\n",
    "from matplotlib import pyplot as plt\n",
    "import itertools"
   ]
  },
  {
   "cell_type": "code",
   "execution_count": 2,
   "metadata": {},
   "outputs": [],
   "source": [
    "# Load iimages into dictionary given a path\n",
    "def load_images(path):\n",
    "    images = {}\n",
    "    for image_category in os.listdir(path):\n",
    "        images_per_category = []\n",
    "        for image in os.listdir(os.path.join(path, image_category)):\n",
    "            image = cv2.imread(os.path.join(path, image_category, image), 0)\n",
    "            if image is not None:\n",
    "                images_per_category.append(image)\n",
    "        images[image_category] = images_per_category\n",
    "        \n",
    "    return images\n",
    "\n",
    "# Feature extractor, supporting SIFT,SURF and ORB features\n",
    "def features_extractor(features_type, images):\n",
    "    descriptors = []\n",
    "    feature_vectors = {}\n",
    "    \n",
    "    if features_type == \"sift\":\n",
    "        feature_extractor = cv2.xfeatures2d.SIFT_create()\n",
    "    \n",
    "    elif features_type == \"orb\":\n",
    "        feature_extractor = cv2.ORB_create()\n",
    "    \n",
    "    elif features_type == \"surf\":\n",
    "        feature_extractor = cv2.xfeatures2d.SURF_create()\n",
    "    \n",
    "    for category, value  in images.items():\n",
    "        per_class_features = []\n",
    "        for image in images[category]:\n",
    "            \n",
    "            kp, des = feature_extractor.detectAndCompute(image,None)\n",
    "            descriptors.extend(des)\n",
    "            per_class_features.append(des)\n",
    "        \n",
    "        feature_vectors[category] = per_class_features\n",
    "    \n",
    "    return [descriptors, feature_vectors]  \n",
    "\n",
    "# Kemans clustering over the descriptors\n",
    "def kmeans(k, descriptor_list):\n",
    "    kmeans = KMeans(n_clusters = k)\n",
    "    kmeans.fit(descriptor_list)\n",
    "    visual_words = kmeans.cluster_centers_\n",
    "    return visual_words\n",
    "\n",
    "# Neasrest finding depending on the eculidian distance\n",
    "def find_index(feature, centres):\n",
    "    count = 0\n",
    "    index = 0\n",
    "    for i in range(len(centres)):\n",
    "        if(i == 0):\n",
    "           count = distance.euclidean(feature, centres[i]) \n",
    "           #count = L1_dist(image, center[i])\n",
    "        else:\n",
    "            dist = distance.euclidean(feature, centres[i]) \n",
    "            #dist = L1_dist(image, center[i])\n",
    "            if(dist < count):\n",
    "                index = i\n",
    "                count = dist\n",
    "    return index    \n",
    "\n",
    "# Build the histograms depending on the Kmeans clusters centres\n",
    "def build_histograms(feature_vectors, visual_words):\n",
    "    per_category_histogram = {}\n",
    "    for key, value in feature_vectors.items():\n",
    "        histograms = []\n",
    "        for image_features in value:\n",
    "            histogram = np.zeros(len(visual_words))\n",
    "            for feature in image_features:\n",
    "                nearest_visual_word_index = find_index(feature, visual_words)\n",
    "                histogram[nearest_visual_word_index] += 1\n",
    "            histograms.append(histogram)\n",
    "        per_category_histogram[key] = histograms\n",
    "    \n",
    "    return per_category_histogram\n",
    "\n",
    "# Histograms matching using KNN\n",
    "def knn(images, tests):\n",
    "    num_test = 0\n",
    "    correct_predict = 0\n",
    "    class_based = {}\n",
    "    preds = []\n",
    "    gts = []\n",
    "    \n",
    "    for test_key, test_val in tests.items():\n",
    "        class_based[test_key] = [0, 0] # [correct, all]\n",
    "        for tst in test_val:\n",
    "            predict_start = 0\n",
    "            #print(test_key)\n",
    "            minimum = 0\n",
    "            key = \"a\" #predicted\n",
    "            for train_key, train_val in images.items():\n",
    "                for train in train_val:\n",
    "                    if(predict_start == 0):\n",
    "                        minimum = distance.euclidean(tst, train)\n",
    "                        #minimum = L1_dist(tst,train)\n",
    "                        key = train_key\n",
    "                        predict_start += 1\n",
    "                    else:\n",
    "                        dist = distance.euclidean(tst, train)\n",
    "                        #dist = L1_dist(tst,train)\n",
    "                        if(dist < minimum):\n",
    "                            minimum = dist\n",
    "                            key = train_key\n",
    "\n",
    "            if(test_key == key):\n",
    "                correct_predict += 1\n",
    "                class_based[test_key][0] += 1\n",
    "                preds.append(key)\n",
    "                gts.append(test_key)\n",
    "            else:\n",
    "                preds.append(key)\n",
    "                gts.append(test_key)\n",
    "    \n",
    "    \n",
    "            num_test += 1\n",
    "            class_based[test_key][1] += 1\n",
    "            #print(minimum)\n",
    "    return [num_test, correct_predict, class_based, preds, gts]"
   ]
  },
  {
   "cell_type": "code",
   "execution_count": 19,
   "metadata": {},
   "outputs": [],
   "source": [
    "# Calculates the average accuracy and class based accuracies.  \n",
    "def accuracy(results):\n",
    "    avg_accuracy = (results[1] / results[0]) * 100\n",
    "    print(\"Average accuracy: %\" + str(avg_accuracy))\n",
    "    print(\"\\nClass based accuracies: \\n\")\n",
    "    for key,value in results[2].items():\n",
    "        acc = (value[0] / value[1]) * 100\n",
    "        print(key + \" : %\" + str(acc))\n",
    "\n",
    "# Given the confusion matrix, return the precision for a given class\n",
    "def precision(label, confusion_matrix_input):\n",
    "    col = confusion_matrix_input[:, label]\n",
    "    return confusion_matrix_input[label, label] / col.sum()\n",
    "\n",
    "# Given the confusion matrix, return the recall for a given class\n",
    "def recall(label, confusion_matrix_input):\n",
    "    row = confusion_matrix_input[label, :]\n",
    "    return confusion_matrix_input[label, label] / row.sum()\n",
    "\n",
    "# Precsion macro average \n",
    "def precision_macro_average(confusion_matrix):\n",
    "    rows, columns = confusion_matrix.shape\n",
    "    sum_of_precisions = 0\n",
    "    for label in range(rows):\n",
    "        sum_of_precisions += precision(label, confusion_matrix)\n",
    "    return sum_of_precisions / rows\n",
    "\n",
    "# Recall macro average \n",
    "def recall_macro_average(confusion_matrix):\n",
    "    rows, columns = confusion_matrix.shape\n",
    "    sum_of_recalls = 0\n",
    "    for label in range(columns):\n",
    "        sum_of_recalls += recall(label, confusion_matrix)\n",
    "    return sum_of_recalls / columns\n",
    "\n",
    "# Plot confusion matrix\n",
    "def plot_confusion_matrix(cm, classes,\n",
    "                          cmap=plt.cm.Blues):\n",
    "   \n",
    "\n",
    "    plt.imshow(cm, interpolation='nearest', cmap=cmap)\n",
    "    plt.colorbar()\n",
    "    tick_marks = np.arange(len(classes))\n",
    "    plt.xticks(tick_marks, classes, rotation=45)\n",
    "    plt.yticks(tick_marks, classes)\n",
    "    \n",
    "    threshold = cm.max() / 2.\n",
    "    for i, j in itertools.product(range(cm.shape[0]), range(cm.shape[1])):\n",
    "        plt.text(j, i, format(cm[i, j]),horizontalalignment=\"center\",color=\"white\" if cm[i, j] > threshold else \"black\")\n",
    "\n",
    "    plt.ylabel('True label')\n",
    "    plt.xlabel('Predicted label')"
   ]
  },
  {
   "cell_type": "code",
   "execution_count": 4,
   "metadata": {},
   "outputs": [],
   "source": [
    "images = load_images('./train')  # take all images category by category\n",
    "test = load_images(\"./test\") # take test images"
   ]
  },
  {
   "cell_type": "code",
   "execution_count": 5,
   "metadata": {},
   "outputs": [
    {
     "name": "stdout",
     "output_type": "stream",
     "text": [
      "features extraion is done!\n"
     ]
    }
   ],
   "source": [
    "orbs = features_extractor( \"orb\", images)\n",
    "\n",
    "# Takes the descriptor list which is unordered one\n",
    "descriptor_list = orbs[0]\n",
    "# Takes the orb features that is seperated class by class for train data\n",
    "all_bovw_feature = orbs[1]\n",
    "# Takes the orb features that is seperated class by class for test data\n",
    "test_bovw_feature = features_extractor(\"orb\", test)[1]\n",
    "\n",
    "print(\"features extraction is done!\")"
   ]
  },
  {
   "cell_type": "code",
   "execution_count": 7,
   "metadata": {},
   "outputs": [
    {
     "name": "stdout",
     "output_type": "stream",
     "text": [
      "Kmeans is done!\n"
     ]
    }
   ],
   "source": [
    "# Takes the central points which is visual words\n",
    "visual_words = kmeans(9, descriptor_list)\n",
    "\n",
    "print(\"Kmeans is done!\")"
   ]
  },
  {
   "cell_type": "code",
   "execution_count": 8,
   "metadata": {},
   "outputs": [
    {
     "name": "stdout",
     "output_type": "stream",
     "text": [
      "Building histograms is done!\n"
     ]
    }
   ],
   "source": [
    "# Creates histograms for train data\n",
    "bovw_train = build_histograms(all_bovw_feature, visual_words)\n",
    "# Creates histograms for test data\n",
    "bovw_test = build_histograms(test_bovw_feature, visual_words)\n",
    "\n",
    "print(\"Building histograms is done!\")"
   ]
  },
  {
   "cell_type": "code",
   "execution_count": 9,
   "metadata": {},
   "outputs": [],
   "source": [
    "# Call the knn function\n",
    "results_bowl = knn(bovw_train, bovw_test)\n",
    "\n",
    "print(\"Knn is done\")"
   ]
  },
  {
   "cell_type": "code",
   "execution_count": 10,
   "metadata": {},
   "outputs": [
    {
     "name": "stdout",
     "output_type": "stream",
     "text": [
      "Average accuracy: %14.344827586206895\n",
      "\n",
      "Class based accuracies: \n",
      "\n",
      "bridge_mid : %11.11111111111111\n",
      "road_mid : %8.695652173913043\n",
      "bridge_high : %6.896551724137931\n",
      "road_low : %16.3265306122449\n",
      "bridge_low : %21.472392638036812\n",
      "road_high : %3.9215686274509802\n",
      "building_low : %19.26605504587156\n",
      "building_mid : %3.225806451612903\n",
      "building_high : %14.864864864864865\n"
     ]
    }
   ],
   "source": [
    "# Calculates the accuracies and write the results to the console.       \n",
    "accuracy(results_bowl) "
   ]
  },
  {
   "cell_type": "code",
   "execution_count": 23,
   "metadata": {},
   "outputs": [
    {
     "data": {
      "image/png": "[encoded data removed]",
      "text/plain": [
       "<Figure size 720x720 with 2 Axes>"
      ]
     },
     "metadata": {
      "needs_background": "light"
     },
     "output_type": "display_data"
    }
   ],
   "source": [
    "# Creates the confusion matrix\n",
    "conf_matrix = confusion_matrix(list(results_bowl[4]), list(results_bowl[3]), list(images.keys()))\n",
    "plt.figure(figsize = (10,10))\n",
    "plot_confusion_matrix(conf_matrix,classes=list(images.keys()))\n",
    "plt.savefig(\"conf_matrix.jpg\")"
   ]
  },
  {
   "cell_type": "code",
   "execution_count": null,
   "metadata": {},
   "outputs": [],
   "source": [
    "feature_extractor = cv2.xfeatures2d.SIFT_create()"
   ]
  },
  {
   "cell_type": "code",
   "execution_count": null,
   "metadata": {},
   "outputs": [],
   "source": []
  }
 ],
 "metadata": {
  "kernelspec": {
   "display_name": "Python 3",
   "language": "python",
   "name": "python3"
  },
  "language_info": {
   "codemirror_mode": {
    "name": "ipython",
    "version": 3
   },
   "file_extension": ".py",
   "mimetype": "text/x-python",
   "name": "python",
   "nbconvert_exporter": "python",
   "pygments_lexer": "ipython3",
   "version": "3.7.3"
  }
 },
 "nbformat": 4,
 "nbformat_minor": 2
}
